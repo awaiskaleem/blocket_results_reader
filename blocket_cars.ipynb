{
 "cells": [
  {
   "cell_type": "code",
   "execution_count": 8,
   "metadata": {},
   "outputs": [],
   "source": [
    "import csv\n",
    "from bs4 import BeautifulSoup\n",
    "import glob\n",
    "\n",
    "# get all pages from https://www.blocket.se/bilar/sok?filter={\"key\":\"make\",\"values\":[\"Kia\"]}&filter={\"key\":\"models\",\"values\":[\"Optima\"]}&filter={\"key\":\"modelYear\",\"range\":{\"start\":\"2018\",\"end\":\"2019\"}}&filter={\"key\":\"milage\",\"range\":{\"start\":\"10000\",\"end\":\"15000\"}}&filter={\"key\":\"fuel\",\"values\":[\"Miljöbränsle/Hybrid\"]}\n",
    "\n",
    "# Combine HTML content from multiple files\n",
    "html_files = glob.glob('./data/blocket.data*')\n",
    "html_content = ''\n",
    "\n",
    "for file_name in html_files:\n",
    "    with open(file_name, 'r', encoding='utf-8') as file:\n",
    "        html_content += file.read()"
   ]
  },
  {
   "cell_type": "code",
   "execution_count": 9,
   "metadata": {},
   "outputs": [
    {
     "name": "stdout",
     "output_type": "stream",
     "text": [
      "CSV file created successfully.\n"
     ]
    }
   ],
   "source": [
    "soup = BeautifulSoup(html_content, 'html.parser')\n",
    "\n",
    "# Define the structure of the CSV\n",
    "csv_file = open('car_listings.csv', 'w', newline='', encoding='utf-8')\n",
    "csv_writer = csv.writer(csv_file)\n",
    "csv_writer.writerow(['Title', 'Model Year', 'Price', 'Mileage'])\n",
    "# Define the structure of the CSV\n",
    "unique_entries = set()\n",
    "rows = []\n",
    "\n",
    "# Parse the HTML to find car listings\n",
    "for listing in soup.select('a[href*=\"/annons/\"]'):\n",
    "    try:\n",
    "        title = listing.select_one('h2').get_text(strip=True)\n",
    "        details = listing.select('div[class^=\"TextCallout2__TextCallout2Wrapper-sc-1bir8f0-0 hXtpYd sc-59286bbc-8 jFWlzF !text-xs md:!text-[15px]\"]')\n",
    "\n",
    "        model_year = details[0].get_text(strip=True)\n",
    "        fuel_type = details[1].get_text(strip=True)\n",
    "        mileage = details[5].get_text(strip=True)\n",
    "        transmission = details[3].get_text(strip=True)\n",
    "\n",
    "        price = listing.select_one('div[data-cy=\"price\"] div').get_text(strip=True)\n",
    "\n",
    "        # Create a tuple for the entry\n",
    "        entry = (title, model_year, price, mileage)\n",
    "\n",
    "        # Check for duplicates\n",
    "        if entry not in unique_entries:\n",
    "            unique_entries.add(entry)\n",
    "            rows.append(entry)\n",
    "    except Exception as e:\n",
    "        print(f\"Error processing listing: {e}\")\n",
    "\n",
    "with open('car_listings.csv', 'w', newline='', encoding='utf-8') as csv_file:\n",
    "    csv_writer = csv.writer(csv_file)\n",
    "    csv_writer.writerow(['Title', 'Model Year', 'Price', 'Mileage'])\n",
    "    csv_writer.writerows(rows)\n",
    "\n",
    "print(\"CSV file created successfully.\")\n"
   ]
  },
  {
   "cell_type": "code",
   "execution_count": null,
   "metadata": {},
   "outputs": [],
   "source": []
  }
 ],
 "metadata": {
  "kernelspec": {
   "display_name": "python310",
   "language": "python",
   "name": "python3"
  },
  "language_info": {
   "codemirror_mode": {
    "name": "ipython",
    "version": 3
   },
   "file_extension": ".py",
   "mimetype": "text/x-python",
   "name": "python",
   "nbconvert_exporter": "python",
   "pygments_lexer": "ipython3",
   "version": "3.10.14"
  }
 },
 "nbformat": 4,
 "nbformat_minor": 2
}
